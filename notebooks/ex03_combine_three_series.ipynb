{
 "cells": [
  {
   "cell_type": "code",
   "execution_count": 1,
   "id": "f9b79835-51ef-4edc-86f7-047e36526942",
   "metadata": {},
   "outputs": [
    {
     "name": "stdout",
     "output_type": "stream",
     "text": [
      "0    Jeff Russell\n",
      "1    Jane Boorman\n",
      "2      Tom Heints\n",
      "dtype: object\n"
     ]
    }
   ],
   "source": [
    "import pandas as pd\n",
    "\n",
    "data = ['Jeff Russell', 'Jane Boorman', 'Tom Heints']\n",
    "emps_names = pd.Series(data)\n",
    "\n",
    "print(emps_names)"
   ]
  },
  {
   "cell_type": "code",
   "execution_count": 3,
   "id": "8b19bad6-f907-4881-835f-eeb1425f1e3f",
   "metadata": {},
   "outputs": [
    {
     "name": "stdout",
     "output_type": "stream",
     "text": [
      "9001    Jeff Russell\n",
      "9002    Jane Boorman\n",
      "9003      Tom Heints\n",
      "dtype: object\n"
     ]
    }
   ],
   "source": [
    "# Use custom indexes for series\n",
    "emps_names = pd.Series(data, index=[9001, 9002, 9003])\n",
    "print(emps_names)"
   ]
  },
  {
   "cell_type": "code",
   "execution_count": 4,
   "id": "18fd7336-3676-46f3-ba68-d2a3314cba75",
   "metadata": {},
   "outputs": [
    {
     "name": "stdout",
     "output_type": "stream",
     "text": [
      "Jeff Russell\n"
     ]
    }
   ],
   "source": [
    "# Access by Series Index\n",
    "emp_9001 = emps_names[9001]\n",
    "print(emp_9001)"
   ]
  },
  {
   "cell_type": "code",
   "execution_count": 5,
   "id": "0335b0df-fca2-4a36-8101-e8b8144abaa1",
   "metadata": {},
   "outputs": [
    {
     "name": "stdout",
     "output_type": "stream",
     "text": [
      "Jeff Russell\n"
     ]
    }
   ],
   "source": [
    "# Access by Index\n",
    "emp_idx_0 = emps_names.iloc[0]\n",
    "print(emp_idx_0)"
   ]
  },
  {
   "cell_type": "code",
   "execution_count": 7,
   "id": "09bc2f12-91a8-42f5-9b1b-be30e0c47d31",
   "metadata": {},
   "outputs": [
    {
     "name": "stdout",
     "output_type": "stream",
     "text": [
      "9001     jeff.russel@company.com\n",
      "9002    jane.boorman@company.com\n",
      "9003      tom.heints@company.com\n",
      "dtype: object\n"
     ]
    }
   ],
   "source": [
    "emails = ['jeff.russel@company.com', 'jane.boorman@company.com', 'tom.heints@company.com']\n",
    "emps_emails = pd.Series(emails, index=[9001, 9002, 9003])\n",
    "\n",
    "print(emps_emails)"
   ]
  },
  {
   "cell_type": "code",
   "execution_count": 8,
   "id": "6437eb50-155e-41ec-8913-3772e027ac7b",
   "metadata": {},
   "outputs": [
    {
     "name": "stdout",
     "output_type": "stream",
     "text": [
      "              name                     email\n",
      "9001  Jeff Russell   jeff.russel@company.com\n",
      "9002  Jane Boorman  jane.boorman@company.com\n",
      "9003    Tom Heints    tom.heints@company.com\n"
     ]
    }
   ],
   "source": [
    "# Merge 2 Series into 1 turning both into a single Data Frame\n",
    "# Set a name for the existing series\n",
    "emps_names.name = 'name'\n",
    "emps_emails.name = 'email'\n",
    "\n",
    "# Concatenate using columns with `axis = 1`\n",
    "df = pd.concat([emps_names, emps_emails], axis = 1)\n",
    "\n",
    "print(df)"
   ]
  },
  {
   "cell_type": "markdown",
   "id": "d77b56b9-5dd4-4338-be39-5f5fe11e5bc2",
   "metadata": {},
   "source": [
    "Create a three/four column DataFrame"
   ]
  },
  {
   "cell_type": "code",
   "execution_count": 11,
   "id": "b64f2b29-734c-4563-98ce-5e0e6453ce35",
   "metadata": {},
   "outputs": [
    {
     "name": "stdout",
     "output_type": "stream",
     "text": [
      "9001    +0 (982) 3454-8290\n",
      "9002    +0 (982) 1167-9388\n",
      "9003    +0 (982) 4544-8822\n",
      "Name: phone, dtype: object\n"
     ]
    }
   ],
   "source": [
    "phones = ['+0 (982) 3454-8290', '+0 (982) 1167-9388', '+0 (982) 4544-8822']\n",
    "\n",
    "emps_phones = pd.Series(phones, index=[9001, 9002, 9003])\n",
    "emps_phones.name = 'phone'\n",
    "\n",
    "print(emps_phones)"
   ]
  },
  {
   "cell_type": "code",
   "execution_count": 12,
   "id": "9c539e29-0c9d-49dc-a061-00822e409efe",
   "metadata": {},
   "outputs": [
    {
     "name": "stdout",
     "output_type": "stream",
     "text": [
      "9001          Amsterdam\n",
      "9002           Budapest\n",
      "9003    Washington D.C.\n",
      "Name: location, dtype: object\n"
     ]
    }
   ],
   "source": [
    "locations = ['Amsterdam', 'Budapest', 'Washington D.C.']\n",
    "\n",
    "emps_locations = pd.Series(locations, index=[9001, 9002, 9003])\n",
    "emps_locations.name = 'location'\n",
    "\n",
    "print(emps_locations)"
   ]
  },
  {
   "cell_type": "code",
   "execution_count": 14,
   "id": "9da839b8-2fcf-46b2-941b-1689d76b7f8a",
   "metadata": {},
   "outputs": [
    {
     "name": "stdout",
     "output_type": "stream",
     "text": [
      "              name                     email               phone  \\\n",
      "9001  Jeff Russell   jeff.russel@company.com  +0 (982) 3454-8290   \n",
      "9002  Jane Boorman  jane.boorman@company.com  +0 (982) 1167-9388   \n",
      "9003    Tom Heints    tom.heints@company.com  +0 (982) 4544-8822   \n",
      "\n",
      "             location  \n",
      "9001        Amsterdam  \n",
      "9002         Budapest  \n",
      "9003  Washington D.C.  \n"
     ]
    }
   ],
   "source": [
    "df = pd.concat([emps_names, emps_emails, emps_phones, emps_locations], axis = 1)\n",
    "\n",
    "print(df)"
   ]
  }
 ],
 "metadata": {
  "kernelspec": {
   "display_name": "Python 3 (ipykernel)",
   "language": "python",
   "name": "python3"
  },
  "language_info": {
   "codemirror_mode": {
    "name": "ipython",
    "version": 3
   },
   "file_extension": ".py",
   "mimetype": "text/x-python",
   "name": "python",
   "nbconvert_exporter": "python",
   "pygments_lexer": "ipython3",
   "version": "3.9.17"
  }
 },
 "nbformat": 4,
 "nbformat_minor": 5
}
