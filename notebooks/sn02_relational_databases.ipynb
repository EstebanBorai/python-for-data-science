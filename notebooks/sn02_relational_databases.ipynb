{
 "cells": [
  {
   "cell_type": "code",
   "execution_count": 10,
   "id": "1ed440e4-bee8-452d-adb6-4015d950fbe7",
   "metadata": {},
   "outputs": [],
   "source": [
    "import mysql.connector\n",
    "\n",
    "try:\n",
    "    # Host is `mysql` because we are in Docker's network\n",
    "\n",
    "    conn = mysql.connector.connect(\n",
    "        user='root',\n",
    "        password='example',\n",
    "        host='mysql',\n",
    "        database='example'\n",
    "    )\n",
    "    cursor = conn.cursor()\n",
    "except mysql.connector.Error as err:\n",
    "    print('MySQL Error')\n",
    "    print('(Code: {}) {}'.format(err.errno, err.msg))"
   ]
  },
  {
   "cell_type": "code",
   "execution_count": 16,
   "id": "f77c518d-19dd-47f1-a1ee-912d80d01c20",
   "metadata": {},
   "outputs": [],
   "source": [
    "CREATE_TABLE_EMPS_STMT = '''\n",
    "CREATE TABLE emps (\n",
    "    empno INT NOT NULL,\n",
    "    empname VARCHAR(50),\n",
    "    job VARCHAR(30),\n",
    "    PRIMARY KEY (empno)\n",
    ");\n",
    "'''\n",
    "\n",
    "try:\n",
    "    cursor.execute(CREATE_TABLE_EMPS_STMT)\n",
    "except mysql.connector.Error as err:\n",
    "    print('MySQL Error')\n",
    "    print('(Code: {}) {}'.format(err.errno, err.msg))"
   ]
  }
 ],
 "metadata": {
  "kernelspec": {
   "display_name": "Python 3 (ipykernel)",
   "language": "python",
   "name": "python3"
  },
  "language_info": {
   "codemirror_mode": {
    "name": "ipython",
    "version": 3
   },
   "file_extension": ".py",
   "mimetype": "text/x-python",
   "name": "python",
   "nbconvert_exporter": "python",
   "pygments_lexer": "ipython3",
   "version": "3.9.17"
  }
 },
 "nbformat": 4,
 "nbformat_minor": 5
}
