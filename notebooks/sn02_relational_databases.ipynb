{
 "cells": [
  {
   "cell_type": "code",
   "execution_count": 9,
   "id": "1ed440e4-bee8-452d-adb6-4015d950fbe7",
   "metadata": {},
   "outputs": [],
   "source": [
    "import mysql.connector\n",
    "\n",
    "def new_conn():\n",
    "    return mysql.connector.connect(\n",
    "        user='root',\n",
    "        password='example',\n",
    "        host='mysql',\n",
    "        database='example'\n",
    "    )\n",
    "\n",
    "try:\n",
    "    # Host is `mysql` because we are in Docker's network\n",
    "\n",
    "    conn = new_conn()\n",
    "    cursor = conn.cursor()\n",
    "except mysql.connector.Error as err:\n",
    "    print('MySQL Error')\n",
    "    print('(Code: {}) {}'.format(err.errno, err.msg))"
   ]
  },
  {
   "cell_type": "code",
   "execution_count": 10,
   "id": "f77c518d-19dd-47f1-a1ee-912d80d01c20",
   "metadata": {},
   "outputs": [],
   "source": [
    "CREATE_TABLE_EMPS_STMT = '''\n",
    "CREATE TABLE emps (\n",
    "    empno INT NOT NULL,\n",
    "    empname VARCHAR(50),\n",
    "    job VARCHAR(30),\n",
    "    PRIMARY KEY (empno)\n",
    ");\n",
    "'''\n",
    "\n",
    "try:\n",
    "    cursor.execute(CREATE_TABLE_EMPS_STMT)\n",
    "except mysql.connector.Error as err:\n",
    "    print('MySQL Error')\n",
    "    print('(Code: {}) {}'.format(err.errno, err.msg))"
   ]
  },
  {
   "cell_type": "code",
   "execution_count": 11,
   "id": "d194ec91-ce23-43a9-b5ef-d6c539a00c49",
   "metadata": {},
   "outputs": [],
   "source": [
    "CREATE_TABLE_SALARY_STMT = '''\n",
    "CREATE TABLE salary (\n",
    "    empno INT NOT NULL,\n",
    "    salary INT,\n",
    "    PRIMARY KEY (empno)\n",
    ");\n",
    "'''\n",
    "\n",
    "try:\n",
    "    cursor.execute(CREATE_TABLE_SALARY_STMT)\n",
    "except mysql.connector.Error as err:\n",
    "    print('MySQL Error')\n",
    "    print('(Code: {}) {}'.format(err.errno, err.msg))"
   ]
  },
  {
   "cell_type": "code",
   "execution_count": 12,
   "id": "51db7df3-38cc-4bc4-8861-6c8ada596731",
   "metadata": {},
   "outputs": [],
   "source": [
    "# Link `salary` with `emps` table by defining a foreign key\n",
    "ADD_FOREIGN_KEY_STMT = '''\n",
    "ALTER TABLE salary\n",
    "ADD FOREIGN KEY (empno)\n",
    "REFERENCES emps (empno);\n",
    "'''\n",
    "\n",
    "try:\n",
    "    cursor.execute(ADD_FOREIGN_KEY_STMT)\n",
    "except mysql.connector.Error as err:\n",
    "    print('MySQL Error')\n",
    "    print('(Code: {}) {}'.format(err.errno, err.msg))"
   ]
  },
  {
   "cell_type": "code",
   "execution_count": 13,
   "id": "dafe1f41-1371-490e-b96a-6f1730a80f27",
   "metadata": {},
   "outputs": [],
   "source": [
    "CREATE_TABLE_ORDERS_STMT = '''\n",
    "CREATE TABLE orders (\n",
    "    pono INT NOT NULL,\n",
    "    empno INT NOT NULL,\n",
    "    total INT,\n",
    "    PRIMARY KEY (pono),\n",
    "    FOREIGN KEY (empno) REFERENCES emps (empno)\n",
    ");\n",
    "'''\n",
    "\n",
    "try:\n",
    "    cursor.execute(CREATE_TABLE_ORDERS_STMT)\n",
    "except mysql.connector.Error as err:\n",
    "    print('MySQL Error')\n",
    "    print('(Code: {}) {}'.format(err.errno, err.msg))"
   ]
  },
  {
   "cell_type": "markdown",
   "id": "23870c74-0f17-473d-b04f-e26c9979471a",
   "metadata": {},
   "source": [
    "Proceed to insert records"
   ]
  },
  {
   "cell_type": "code",
   "execution_count": 14,
   "id": "37d3a725-1148-4c61-8eac-4accea60d7c9",
   "metadata": {},
   "outputs": [],
   "source": [
    "try:\n",
    "    cursor = conn.cursor()\n",
    "\n",
    "    # Creates data of employees\n",
    "    emps = [\n",
    "        (9001, \"Jeff Russell\", \"sales\"),\n",
    "        (9002, \"Jane Boorman\", \"sales\"),\n",
    "        (9003, \"Tom Heints\", \"sales\")\n",
    "    ]\n",
    "\n",
    "    # Define insertion query\n",
    "    query_add_emp = ('''INSERT INTO emps (empno, empname, job)\n",
    "        VALUES (%s, %s, %s)''')\n",
    "\n",
    "    # Execute the insertion query per employee. in production is\n",
    "    # more efficient to execute a single transaction using a INSERT MANY\n",
    "    # approach.\n",
    "    for emp in emps:\n",
    "        cursor.execute(query_add_emp, emp)\n",
    "\n",
    "    salary = [\n",
    "        (9001, 3000),\n",
    "        (9002, 2800),\n",
    "        (9003, 2500)\n",
    "    ]\n",
    "\n",
    "    query_add_salary = ('''INSERT INTO salary (empno, salary)\n",
    "        VALUES (%s, %s)''')\n",
    "\n",
    "    for sal in salary:\n",
    "        cursor.execute(query_add_salary, sal)\n",
    "\n",
    "    orders = [\n",
    "        (2608, 9001, 35),\n",
    "        (2617, 9001, 35),\n",
    "        (2620, 9001, 139),\n",
    "        (2621, 9002, 95),\n",
    "        (2626, 9002, 218),\n",
    "    ]\n",
    "\n",
    "    query_add_order = ('''INSERT INTO orders (pono, empno, total)\n",
    "        VALUES (%s, %s, %s)''')\n",
    "\n",
    "    for order in orders:\n",
    "        cursor.execute(query_add_order, order)\n",
    "\n",
    "    conn.commit()\n",
    "except mysql.connector.Error as err:\n",
    "    print('MySQL Error')\n",
    "    print('(Code: {}) {}'.format(err.errno, err.msg))\n",
    "finally:\n",
    "    cursor.close()\n",
    "    conn.close()"
   ]
  },
  {
   "cell_type": "markdown",
   "id": "a2f057be-f43f-435e-95ca-8c5645f56e29",
   "metadata": {},
   "source": [
    "With our data loaded into the database, we can now fetch tables and even join tables on queries for richer data results"
   ]
  },
  {
   "cell_type": "code",
   "execution_count": 16,
   "id": "0267daa4-8cc5-4b67-aa8b-4f740a4b7a61",
   "metadata": {},
   "outputs": [
    {
     "name": "stdout",
     "output_type": "stream",
     "text": [
      "9001 Jeff Russell, sales\n",
      "9002 Jane Boorman, sales\n",
      "9003 Tom Heints, sales\n"
     ]
    }
   ],
   "source": [
    "try:\n",
    "    conn = new_conn()\n",
    "    cursor = conn.cursor()\n",
    "    query = ('SELECT * FROM emps WHERE empno > %s')\n",
    "    cursor.execute(query, (9000,))\n",
    "\n",
    "    for (empno, empname, job) in cursor:\n",
    "        print(f'{empno} {empname}, {job}')\n",
    "except mysql.connector.Error as err:\n",
    "    print('MySQL Error')\n",
    "    print('(Code: {}) {}'.format(err.errno, err.msg))\n",
    "finally:\n",
    "    cursor.close()\n",
    "    conn.close()"
   ]
  },
  {
   "cell_type": "markdown",
   "id": "761ec537-e477-4af5-95ef-89c4417dee87",
   "metadata": {},
   "source": [
    "Joining two tables, employees and salaries"
   ]
  },
  {
   "cell_type": "code",
   "execution_count": 20,
   "id": "5d5bf0a5-9969-4b65-81d1-ab6118dacdd6",
   "metadata": {},
   "outputs": [
    {
     "name": "stdout",
     "output_type": "stream",
     "text": [
      "9001\tJeff Russell\tsales\t3000\n",
      "9002\tJane Boorman\tsales\t2800\n",
      "9003\tTom Heints\tsales\t2500\n"
     ]
    }
   ],
   "source": [
    "try:\n",
    "    conn = new_conn()\n",
    "    cursor = conn.cursor()\n",
    "    query = ('''\n",
    "    SELECT\n",
    "        e.empno,\n",
    "        e.empname,\n",
    "        e.job,\n",
    "        s.salary\n",
    "    FROM emps e\n",
    "    JOIN salary s ON e.empno = s.empno\n",
    "    WHERE e.empno > %s\n",
    "    ''')\n",
    "    cursor.execute(query, (9000,))\n",
    "\n",
    "    for (empno, empname, job, salary) in cursor:\n",
    "        print(f'{empno}\\t{empname}\\t{job}\\t{salary}')\n",
    "except mysql.connector.Error as err:\n",
    "    print('MySQL Error')\n",
    "    print('(Code: {}) {}'.format(err.errno, err.msg))\n",
    "finally:\n",
    "    cursor.close()\n",
    "    conn.close()"
   ]
  },
  {
   "cell_type": "markdown",
   "id": "ed405b64-d10b-465c-9d99-5d5d8450099b",
   "metadata": {},
   "source": [
    "Now we perform a One to Many Join to include each employee orders."
   ]
  },
  {
   "cell_type": "code",
   "execution_count": 25,
   "id": "ff24b231-89bb-4f52-bf2b-1d24fc6aaff8",
   "metadata": {},
   "outputs": [
    {
     "name": "stdout",
     "output_type": "stream",
     "text": [
      "9001\tJeff Russell\tsales\t3000\n",
      "9001\tJeff Russell\tsales\t3000\n",
      "9001\tJeff Russell\tsales\t3000\n",
      "9002\tJane Boorman\tsales\t2800\n",
      "9002\tJane Boorman\tsales\t2800\n",
      "9003\tTom Heints\tsales\t2500\n"
     ]
    }
   ],
   "source": [
    "try:\n",
    "    conn = new_conn()\n",
    "    cursor = conn.cursor()\n",
    "    query = ('''\n",
    "    SELECT\n",
    "        e.empno,\n",
    "        e.empname,\n",
    "        e.job,\n",
    "        s.salary\n",
    "    FROM emps e\n",
    "    JOIN salary s ON e.empno = s.empno\n",
    "    LEFT JOIN orders o ON e.empno = o.empno\n",
    "    WHERE e.empno > %s\n",
    "    ''')\n",
    "    cursor.execute(query, (9000,))\n",
    "\n",
    "    for (empno, empname, job, salary) in cursor:\n",
    "        print(f'{empno}\\t{empname}\\t{job}\\t{salary}')\n",
    "except mysql.connector.Error as err:\n",
    "    print('MySQL Error')\n",
    "    print('(Code: {}) {}'.format(err.errno, err.msg))\n",
    "finally:\n",
    "    cursor.close()\n",
    "    conn.close()"
   ]
  },
  {
   "cell_type": "markdown",
   "id": "0ae0649c-2e45-41e0-bb59-428819903359",
   "metadata": {},
   "source": [
    "Now we fetch data from Yahoo Finance using the `yfinance` library and then such data is inserted into the MySQL database.\n",
    "For simplicity the same database is used.\n",
    "\n",
    "Previous tables are dropped to keep current DB tidy."
   ]
  },
  {
   "cell_type": "code",
   "execution_count": 26,
   "id": "b91df8c1-a913-465a-86fe-a8232ac14cc7",
   "metadata": {},
   "outputs": [],
   "source": [
    "try:\n",
    "    conn = new_conn()\n",
    "    cursor = conn.cursor()\n",
    "    query = ('''\n",
    "    DROP TABLE orders;\n",
    "    DROP TABLE salary;\n",
    "    DROP TABLE emps;\n",
    "    ''')\n",
    "    cursor.execute(query)\n",
    "except mysql.connector.Error as err:\n",
    "    print('MySQL Error')\n",
    "    print('(Code: {}) {}'.format(err.errno, err.msg))\n",
    "finally:\n",
    "    cursor.close()\n",
    "    conn.close()"
   ]
  },
  {
   "cell_type": "markdown",
   "id": "af36af84-35b1-45e0-845f-bd6698e7aaf4",
   "metadata": {},
   "source": [
    "Now stocks tables are created."
   ]
  },
  {
   "cell_type": "code",
   "execution_count": 51,
   "id": "c9443d16-d7f4-427d-a02f-45eb99c66380",
   "metadata": {},
   "outputs": [],
   "source": [
    "query = '''\n",
    "CREATE TABLE stocks (\n",
    "    ticker VARCHAR(10),\n",
    "    date VARCHAR(10),\n",
    "    price DECIMAL(15,2)\n",
    ");\n",
    "'''\n",
    "\n",
    "try:\n",
    "    conn = new_conn()\n",
    "    cursor = conn.cursor()\n",
    "    cursor.execute(query)\n",
    "except mysql.connector.Error as err:\n",
    "    print('MySQL Error')\n",
    "    print('(Code: {}) {}'.format(err.errno, err.msg))\n",
    "finally:\n",
    "    cursor.close()\n",
    "    conn.close()"
   ]
  },
  {
   "cell_type": "code",
   "execution_count": 52,
   "id": "7af73c95-73ec-481d-a6e1-ffb2c32567f0",
   "metadata": {},
   "outputs": [
    {
     "data": {
      "text/plain": [
       "[('TSLA', '2024-04-24', 162.1300048828125),\n",
       " ('TSLA', '2024-04-25', 170.17999267578125),\n",
       " ('TSLA', '2024-04-26', 168.2899932861328),\n",
       " ('TSLA', '2024-04-29', 194.0500030517578),\n",
       " ('TSLA', '2024-04-30', 183.27999877929688),\n",
       " ('META', '2024-04-24', 493.5),\n",
       " ('META', '2024-04-25', 441.3800048828125),\n",
       " ('META', '2024-04-26', 443.2900085449219),\n",
       " ('META', '2024-04-29', 432.6199951171875),\n",
       " ('META', '2024-04-30', 430.1700134277344),\n",
       " ('ORCL', '2024-04-24', 115.33999633789062),\n",
       " ('ORCL', '2024-04-25', 114.88999938964844),\n",
       " ('ORCL', '2024-04-26', 117.20999908447266),\n",
       " ('ORCL', '2024-04-29', 116.48999786376953),\n",
       " ('ORCL', '2024-04-30', 113.75),\n",
       " ('AMZN', '2024-04-24', 176.58999633789062),\n",
       " ('AMZN', '2024-04-25', 173.6699981689453),\n",
       " ('AMZN', '2024-04-26', 179.6199951171875),\n",
       " ('AMZN', '2024-04-29', 180.9600067138672),\n",
       " ('AMZN', '2024-04-30', 175.0)]"
      ]
     },
     "metadata": {},
     "output_type": "display_data"
    }
   ],
   "source": [
    "import yfinance as yf\n",
    "\n",
    "FIVE_DAYS_PERIOD = '5d'\n",
    "\n",
    "data = []\n",
    "tickers = ['TSLA', 'META', 'ORCL', 'AMZN']\n",
    "\n",
    "for ticker in tickers:\n",
    "    tkr = yf.Ticker(ticker)\n",
    "    hist = tkr.history(period=FIVE_DAYS_PERIOD).reset_index()\n",
    "    records = hist[['Date', 'Close']].to_records(index=False)\n",
    "    records = list(records)\n",
    "    records = [(ticker, str(elem[0])[:10], elem[1]) for elem in records]\n",
    "    data = data + records\n",
    "\n",
    "display(data)"
   ]
  },
  {
   "cell_type": "code",
   "execution_count": 53,
   "id": "7d6eb2a0-3b2f-46a7-944d-2dc4dedf08bf",
   "metadata": {},
   "outputs": [],
   "source": [
    "query = '''\n",
    "INSERT INTO stocks (\n",
    "    ticker,\n",
    "    date,\n",
    "    price\n",
    ") VALUES (\n",
    "    %s,\n",
    "    %s,\n",
    "    %s\n",
    ")\n",
    "'''\n",
    "\n",
    "try:\n",
    "    conn = new_conn()\n",
    "    cursor = conn.cursor()\n",
    "    cursor.executemany(query, data)\n",
    "    conn.commit()\n",
    "except mysql.connector.Error as err:\n",
    "    print('MySQL Error')\n",
    "    print('(Code: {}) {}'.format(err.errno, err.msg))\n",
    "finally:\n",
    "    cursor.close()\n",
    "    conn.close()"
   ]
  },
  {
   "cell_type": "code",
   "execution_count": 56,
   "id": "cc445663-496c-4d9d-9794-88fdfbc2c6ad",
   "metadata": {},
   "outputs": [
    {
     "name": "stdout",
     "output_type": "stream",
     "text": [
      "TSLA\t2024-04-24\t162.13\n",
      "TSLA\t2024-04-25\t170.18\n",
      "TSLA\t2024-04-26\t168.29\n",
      "TSLA\t2024-04-29\t194.05\n",
      "TSLA\t2024-04-30\t183.28\n",
      "META\t2024-04-24\t493.50\n",
      "META\t2024-04-25\t441.38\n",
      "META\t2024-04-26\t443.29\n",
      "META\t2024-04-29\t432.62\n",
      "META\t2024-04-30\t430.17\n",
      "ORCL\t2024-04-24\t115.34\n",
      "ORCL\t2024-04-25\t114.89\n",
      "ORCL\t2024-04-26\t117.21\n",
      "ORCL\t2024-04-29\t116.49\n",
      "ORCL\t2024-04-30\t113.75\n",
      "AMZN\t2024-04-24\t176.59\n",
      "AMZN\t2024-04-25\t173.67\n",
      "AMZN\t2024-04-26\t179.62\n",
      "AMZN\t2024-04-29\t180.96\n",
      "AMZN\t2024-04-30\t175.00\n"
     ]
    }
   ],
   "source": [
    "query = '''\n",
    "SELECT ticker, date, price FROM stocks\n",
    "'''\n",
    "\n",
    "try:\n",
    "    conn = new_conn()\n",
    "    cursor = conn.cursor()\n",
    "    cursor.execute(query)\n",
    "\n",
    "    for (ticker, date, price) in cursor:\n",
    "        print(f'{ticker}\\t{date}\\t{price}')\n",
    "except mysql.connector.Error as err:\n",
    "    print('MySQL Error')\n",
    "    print('(Code: {}) {}'.format(err.errno, err.msg))\n",
    "finally:\n",
    "    cursor.close()\n",
    "    conn.close()"
   ]
  },
  {
   "cell_type": "markdown",
   "id": "f9f8fa85-3aa8-4529-8688-567a6120ec20",
   "metadata": {},
   "source": [
    "The `LAG` function in MySQL can be used when the `SELECT` instruction is in context, to access the previous row\n",
    "data from the current row.\n",
    "\n",
    "Using the `PARTITION BY` clause within the `OVER` clause, the dataset is divided into groups, in this scenario one per ticker."
   ]
  },
  {
   "cell_type": "code",
   "execution_count": 62,
   "id": "9be8fd86-dd9e-4a9f-b584-42c8200cccc9",
   "metadata": {},
   "outputs": [
    {
     "name": "stdout",
     "output_type": "stream",
     "text": [
      "AMZN\t2024-04-24\t176.59\tNone\n",
      "AMZN\t2024-04-25\t173.67\t176.59\n",
      "AMZN\t2024-04-26\t179.62\t173.67\n",
      "AMZN\t2024-04-29\t180.96\t179.62\n",
      "AMZN\t2024-04-30\t175.00\t180.96\n",
      "META\t2024-04-24\t493.50\tNone\n",
      "META\t2024-04-25\t441.38\t493.50\n",
      "META\t2024-04-26\t443.29\t441.38\n",
      "META\t2024-04-29\t432.62\t443.29\n",
      "META\t2024-04-30\t430.17\t432.62\n",
      "ORCL\t2024-04-24\t115.34\tNone\n",
      "ORCL\t2024-04-25\t114.89\t115.34\n",
      "ORCL\t2024-04-26\t117.21\t114.89\n",
      "ORCL\t2024-04-29\t116.49\t117.21\n",
      "ORCL\t2024-04-30\t113.75\t116.49\n",
      "TSLA\t2024-04-24\t162.13\tNone\n",
      "TSLA\t2024-04-25\t170.18\t162.13\n",
      "TSLA\t2024-04-26\t168.29\t170.18\n",
      "TSLA\t2024-04-29\t194.05\t168.29\n",
      "TSLA\t2024-04-30\t183.28\t194.05\n"
     ]
    }
   ],
   "source": [
    "query = '''\n",
    "SELECT\n",
    "\tdate,\n",
    "\tticker,\n",
    "\tprice,\n",
    "\tLAG(price) OVER (PARTITION BY ticker ORDER BY date) AS prev_price\n",
    "FROM\n",
    "\tstocks;\n",
    "'''\n",
    "\n",
    "try:\n",
    "    conn = new_conn()\n",
    "    cursor = conn.cursor()\n",
    "    cursor.execute(query)\n",
    "\n",
    "    for (date, ticker, price, prev_price) in cursor:\n",
    "        print(f'{ticker}\\t{date}\\t{price}\\t{prev_price}')\n",
    "except mysql.connector.Error as err:\n",
    "    print('MySQL Error')\n",
    "    print('(Code: {}) {}'.format(err.errno, err.msg))\n",
    "finally:\n",
    "    cursor.close()\n",
    "    conn.close()"
   ]
  },
  {
   "cell_type": "code",
   "execution_count": 67,
   "id": "eeb321c2-e048-44e6-abb5-717a325d03cc",
   "metadata": {},
   "outputs": [
    {
     "name": "stderr",
     "output_type": "stream",
     "text": [
      "/tmp/ipykernel_28/3778911844.py:27: UserWarning: pandas only supports SQLAlchemy connectable (engine/connection) or database string URI or sqlite3 DBAPI2 connection. Other DBAPI2 objects are not tested. Please consider using SQLAlchemy.\n",
      "  df_stocks = pd.read_sql(query, con=conn)\n"
     ]
    },
    {
     "data": {
      "text/html": [
       "<div>\n",
       "<style scoped>\n",
       "    .dataframe tbody tr th:only-of-type {\n",
       "        vertical-align: middle;\n",
       "    }\n",
       "\n",
       "    .dataframe tbody tr th {\n",
       "        vertical-align: top;\n",
       "    }\n",
       "\n",
       "    .dataframe thead th {\n",
       "        text-align: right;\n",
       "    }\n",
       "</style>\n",
       "<table border=\"1\" class=\"dataframe\">\n",
       "  <thead>\n",
       "    <tr style=\"text-align: right;\">\n",
       "      <th></th>\n",
       "      <th></th>\n",
       "      <th>price</th>\n",
       "    </tr>\n",
       "    <tr>\n",
       "      <th>ticker</th>\n",
       "      <th>date</th>\n",
       "      <th></th>\n",
       "    </tr>\n",
       "  </thead>\n",
       "  <tbody>\n",
       "  </tbody>\n",
       "</table>\n",
       "</div>"
      ],
      "text/plain": [
       "Empty DataFrame\n",
       "Columns: [price]\n",
       "Index: []"
      ]
     },
     "metadata": {},
     "output_type": "display_data"
    }
   ],
   "source": [
    "import pandas as pd\n",
    "\n",
    "query = '''\n",
    "SELECT\n",
    "\ts.*\n",
    "FROM\n",
    "\tstocks AS s\n",
    "\tLEFT JOIN ( SELECT DISTINCT\n",
    "\t\t\t(ticker)\n",
    "\t\tFROM (\n",
    "\t\t\tSELECT\n",
    "\t\t\t\tprice / LAG(price) OVER (PARTITION BY ticker ORDER BY date) AS dif,\n",
    "\t\t\t\tticker\n",
    "\t\t\tFROM\n",
    "\t\t\t\tstocks) AS b\n",
    "\t\tWHERE\n",
    "\t\t\tdif < 0.99) AS a ON a.ticker = s.ticker\n",
    "WHERE\n",
    "\ta.ticker IS NULL\n",
    "'''\n",
    "\n",
    "try:\n",
    "    conn = new_conn()\n",
    "    cursor = conn.cursor()\n",
    "\n",
    "\n",
    "    df_stocks = pd.read_sql(query, con=conn)\n",
    "    df_stocks = df_stocks.set_index(['ticker', 'date'])\n",
    "    display(df_stocks)\n",
    "except mysql.connector.Error as err:\n",
    "    print('MySQL Error')\n",
    "    print('(Code: {}) {}'.format(err.errno, err.msg))\n",
    "finally:\n",
    "    cursor.close()\n",
    "    conn.close()"
   ]
  }
 ],
 "metadata": {
  "kernelspec": {
   "display_name": "Python 3 (ipykernel)",
   "language": "python",
   "name": "python3"
  },
  "language_info": {
   "codemirror_mode": {
    "name": "ipython",
    "version": 3
   },
   "file_extension": ".py",
   "mimetype": "text/x-python",
   "name": "python",
   "nbconvert_exporter": "python",
   "pygments_lexer": "ipython3",
   "version": "3.9.17"
  }
 },
 "nbformat": 4,
 "nbformat_minor": 5
}
