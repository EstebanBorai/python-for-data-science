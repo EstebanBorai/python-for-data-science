{
 "cells": [
  {
   "cell_type": "code",
   "execution_count": 1,
   "id": "d69d493a-0716-47e7-bc80-0ef36753fdf8",
   "metadata": {},
   "outputs": [],
   "source": [
    "# Introduce Data in Context\n",
    "\n",
    "orders = [\n",
    " (9423517, '2021-08-04', 9001),\n",
    " (4626232, '2021-08-04', 9003),\n",
    " (9423534, '2021-08-04', 9001),\n",
    " (9423679, '2021-08-05', 9002),\n",
    " (4626377, '2021-08-05', 9003),\n",
    " (4626412, '2021-08-05', 9004),\n",
    " (9423783, '2021-08-06', 9002),\n",
    " (4626490, '2021-08-06', 9004)\n",
    "]\n",
    "\n",
    "details = [\n",
    " (9423517, 'Jeans', 'Rip Curl', 87.0, 1),\n",
    " (9423517, 'Jacket', 'The North Face', 112.0, 1),\n",
    " (4626232, 'Socks', 'Vans', 15.0, 1),\n",
    " (4626232, 'Jeans', 'Quiksilver', 82.0, 1),\n",
    " (9423534, 'Socks', 'DC', 10.0, 2),\n",
    " (9423534, 'Socks', 'Quiksilver', 12.0, 2),\n",
    " (9423679, 'T-shirt', 'Patagonia', 35.0, 1),\n",
    " (4626377, 'Hoody', 'Animal', 44.0, 1),\n",
    " (4626377, 'Cargo Shorts', 'Animal', 38.0, 1),\n",
    " (4626412, 'Shirt', 'Volcom', 78.0, 1),\n",
    " (9423783, 'Boxer Shorts', 'Superdry', 30.0, 2),\n",
    " (9423783, 'Shorts', 'Globe', 26.0, 1),\n",
    " (4626490, 'Cargo Shorts', 'Billabong', 54.0, 1),\n",
    " (4626490, 'Sweater', 'Dickies', 56.0, 1)\n",
    "]\n",
    "\n",
    "emps = [\n",
    " (9001, 'Jeff Russell', 'LA'),\n",
    " (9002, 'Nick Boorman', 'San Francisco'),\n",
    " (9003, 'Tom Heints', 'NYC'),\n",
    " (9004, 'Maya Silver', 'Philadelphia')\n",
    "]\n",
    "\n",
    "locations = [\n",
    " ('LA', 'West'),\n",
    " ('San Francisco', 'West'),\n",
    " ('NYC', 'East'),\n",
    " ('Philadelphia', 'East')\n",
    "]"
   ]
  },
  {
   "cell_type": "code",
   "execution_count": 4,
   "id": "7302bac8-3643-4701-a1af-ea028dc8af38",
   "metadata": {},
   "outputs": [],
   "source": [
    "import pandas as pd\n",
    "\n",
    "# Turn each collection into a Pandas DataFrame\n",
    "\n",
    "df_orders = pd.DataFrame(orders, columns = ['OrderNo', 'Date', 'Empno'])\n",
    "df_details = pd.DataFrame(details, columns = ['OrderNo', 'Item', 'Brand', 'Price', 'Quantity'])\n",
    "df_emps = pd.DataFrame(emps, columns = ['Empno', 'Empname', 'Location'])\n",
    "df_locations = pd.DataFrame(locations, columns = ['Location', 'Region'])"
   ]
  },
  {
   "cell_type": "markdown",
   "id": "9936bb7d-8e2d-45b6-8d62-062b2bbd9749",
   "metadata": {},
   "source": [
    "With every `DataFrame` in place aggregation can be applied based on our queries.\n",
    "The goal is to generate the sums of sales by region and date."
   ]
  },
  {
   "cell_type": "code",
   "execution_count": null,
   "id": "d93c4011-0731-4992-9863-c198d570e18e",
   "metadata": {},
   "outputs": [],
   "source": []
  }
 ],
 "metadata": {
  "kernelspec": {
   "display_name": "Python 3 (ipykernel)",
   "language": "python",
   "name": "python3"
  },
  "language_info": {
   "codemirror_mode": {
    "name": "ipython",
    "version": 3
   },
   "file_extension": ".py",
   "mimetype": "text/x-python",
   "name": "python",
   "nbconvert_exporter": "python",
   "pygments_lexer": "ipython3",
   "version": "3.9.17"
  }
 },
 "nbformat": 4,
 "nbformat_minor": 5
}
