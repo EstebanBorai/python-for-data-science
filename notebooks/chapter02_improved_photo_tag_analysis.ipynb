{
 "cells": [
  {
   "cell_type": "markdown",
   "id": "42b7f162-35b4-4958-b57d-de78a20118ff",
   "metadata": {},
   "source": [
    "In order to always fetch the latest version of the data, such data is fetched from author's repository, then converted into a Python statement and finally executed.\n",
    "\n",
    "> Note about `exec`, it is discouraged to execute arbirtary code as is done in the following block. A malicious user could post harmful\n",
    "> code in such GitHub's file and then such code would be executed."
   ]
  },
  {
   "cell_type": "code",
   "execution_count": 14,
   "id": "abae6b96-65db-49fe-ab49-b0f955418d6d",
   "metadata": {},
   "outputs": [
    {
     "name": "stdout",
     "output_type": "stream",
     "text": [
      "[{'name': 'photo1.jpg', 'tags': {'food', 'coffee', 'drink', 'cup', 'breakfast', 'table', 'tableware'}}, {'name': 'photo2.jpg', 'tags': {'food', 'dish', 'vegetable', 'dinner', 'meal', 'meat', 'tableware'}}, {'name': 'photo3.jpg', 'tags': {'city', 'skyline', 'skyscraper', 'architecture', 'travel', 'building', 'cityscape'}}, {'name': 'photo4.jpg', 'tags': {'glass', 'drink', 'meal', 'grapes', 'fruit', 'juice', 'food'}}]\n"
     ]
    }
   ],
   "source": [
    "import requests\n",
    "\n",
    "LIST_OF_DICTIONARIES_JSON_URL = \"https://raw.githubusercontent.com/pythondatabook/sources/main/ch2/list_of_dicts.txt\"\n",
    "\n",
    "response = requests.get(LIST_OF_DICTIONARIES_JSON_URL)\n",
    "response_text = response.text\n",
    "response_text = 'data = ' + response_text\n",
    "\n",
    "exec(response_text)\n",
    "print(data)"
   ]
  },
  {
   "cell_type": "markdown",
   "id": "9309d683-2707-4857-aee4-a2ef09806dad",
   "metadata": {},
   "source": [
    "Group photos with intersecting tags, saving the results in `photo_groups`."
   ]
  },
  {
   "cell_type": "code",
   "execution_count": 35,
   "id": "86df43c8-d757-406c-86b9-b466111f7adb",
   "metadata": {},
   "outputs": [
    {
     "name": "stdout",
     "output_type": "stream",
     "text": [
      "{\n",
      "    \"tableware_food\": [\n",
      "        \"photo1.jpg\",\n",
      "        \"photo2.jpg\"\n",
      "    ],\n",
      "    \"drink_food\": [\n",
      "        \"photo1.jpg\",\n",
      "        \"photo4.jpg\"\n",
      "    ],\n",
      "    \"meal_food\": [\n",
      "        \"photo2.jpg\",\n",
      "        \"photo4.jpg\"\n",
      "    ]\n",
      "}\n"
     ]
    }
   ],
   "source": [
    "import json\n",
    "\n",
    "photo_groups = {}\n",
    "\n",
    "for photo_x in range(0, len(data)):\n",
    "    for photo_y in range(photo_x+1, len(data)):\n",
    "        intersection = data[photo_x]['tags'].intersection(data[photo_y]['tags'])\n",
    "\n",
    "        if len(intersection) >= 2:\n",
    "            intersection = list(intersection)\n",
    "            key = '_'.join(intersection)\n",
    "            photo_groups.setdefault(key, [data[photo_x]['name'], data[photo_y]['name']])\n",
    "\n",
    "print(json.dumps(photo_groups, indent=4))"
   ]
  }
 ],
 "metadata": {
  "kernelspec": {
   "display_name": "Python 3 (ipykernel)",
   "language": "python",
   "name": "python3"
  },
  "language_info": {
   "codemirror_mode": {
    "name": "ipython",
    "version": 3
   },
   "file_extension": ".py",
   "mimetype": "text/x-python",
   "name": "python",
   "nbconvert_exporter": "python",
   "pygments_lexer": "ipython3",
   "version": "3.9.17"
  }
 },
 "nbformat": 4,
 "nbformat_minor": 5
}
