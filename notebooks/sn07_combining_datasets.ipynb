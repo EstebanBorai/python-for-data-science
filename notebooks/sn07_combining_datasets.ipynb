{
 "cells": [
  {
   "cell_type": "code",
   "execution_count": 1,
   "id": "721fe4af-316f-482a-97a5-e1936208891f",
   "metadata": {},
   "outputs": [],
   "source": [
    "# Introduce data as list of tuples splitted by date\n",
    "\n",
    "orders_2022_02_04 = [\n",
    "    (9423517, '2022-02-04', 9001),\n",
    "    (4626232, '2022-02-04', 9003),\n",
    "    (9423534, '2022-02-04', 9001)\n",
    "]\n",
    "\n",
    "orders_2022_02_05 = [\n",
    "    (9423679, '2022-02-05', 9002),\n",
    "    (4626377, '2022-02-05', 9003),\n",
    "    (4626412, '2022-02-05', 9004)\n",
    "]\n",
    "\n",
    "orders_2022_02_06 = [\n",
    "    (9423783, '2022-02-06', 9002),\n",
    "    (4626490, '2022-02-06', 9004)\n",
    "]"
   ]
  },
  {
   "cell_type": "code",
   "execution_count": 2,
   "id": "9fbc4405-e384-4767-8e51-5ac170d0b936",
   "metadata": {},
   "outputs": [],
   "source": [
    "# Join into a single list using `+` operator\n",
    "orders = orders_2022_02_04 + orders_2022_02_05 + orders_2022_02_06"
   ]
  },
  {
   "cell_type": "code",
   "execution_count": 3,
   "id": "9650e7e8-34d8-4786-98d3-00a2f39cb55c",
   "metadata": {},
   "outputs": [
    {
     "data": {
      "text/plain": [
       "[(9423517, '2022-02-04', 9001),\n",
       " (4626232, '2022-02-04', 9003),\n",
       " (9423534, '2022-02-04', 9001),\n",
       " (9423679, '2022-02-05', 9002),\n",
       " (4626377, '2022-02-05', 9003),\n",
       " (4626412, '2022-02-05', 9004),\n",
       " (9423783, '2022-02-06', 9002),\n",
       " (4626490, '2022-02-06', 9004)]"
      ]
     },
     "metadata": {},
     "output_type": "display_data"
    }
   ],
   "source": [
    "display(orders)"
   ]
  },
  {
   "cell_type": "code",
   "execution_count": 4,
   "id": "dca5fea0-132d-46c0-8f75-1cef5101be40",
   "metadata": {},
   "outputs": [],
   "source": [
    "# Dictionaries can be \"combined\" using `**` operator\n",
    "\n",
    "extra_fields_9423517 = {\n",
    "    'ShippingInstrustions' : {\n",
    "        'name' : 'John Silver',\n",
    "        'Phone' : [\n",
    "            {\n",
    "                'type' : 'Office',\n",
    "                'number' : '809-123-9309'\n",
    "            },\n",
    "            {\n",
    "                'type' : 'Mobile',\n",
    "                'number' : '417-123-4567'\n",
    "            }\n",
    "        ]\n",
    "    }\n",
    "}\n",
    "\n",
    "order_9423517 = {\n",
    "    'OrderNo': 9423517,\n",
    "    'Date': '2022-02-04',\n",
    "    'Empno': 9001\n",
    "}\n",
    "\n",
    "order_9423517 = {\n",
    "    **order_9423517,\n",
    "    **extra_fields_9423517\n",
    "}"
   ]
  },
  {
   "cell_type": "code",
   "execution_count": 5,
   "id": "2cf0aad4-e3da-4e35-8e13-a3d204332cfd",
   "metadata": {},
   "outputs": [
    {
     "data": {
      "text/plain": [
       "{'OrderNo': 9423517,\n",
       " 'Date': '2022-02-04',\n",
       " 'Empno': 9001,\n",
       " 'ShippingInstrustions': {'name': 'John Silver',\n",
       "  'Phone': [{'type': 'Office', 'number': '809-123-9309'},\n",
       "   {'type': 'Mobile', 'number': '417-123-4567'}]}}"
      ]
     },
     "metadata": {},
     "output_type": "display_data"
    }
   ],
   "source": [
    "display(order_9423517)"
   ]
  },
  {
   "cell_type": "code",
   "execution_count": 6,
   "id": "f3c1d34b-7a0c-49fe-98c7-984bb12d2d96",
   "metadata": {},
   "outputs": [
    {
     "data": {
      "text/plain": [
       "[(9423517, '2022-02-04', 9001, 'Jeans', 'Rip Curl', 87.0, 1),\n",
       " (9423517, '2022-02-04', 9001, 'Jacket', 'The North Face', 112.0, 1),\n",
       " (4626232, '2022-02-04', 9003, 'Socks', 'Vans', 15.0, 1),\n",
       " (4626232, '2022-02-04', 9003, 'Jeans', 'Quiksilver', 82.0, 1),\n",
       " (9423534, '2022-02-04', 9001, 'Socks', 'DC', 10.0, 2),\n",
       " (9423534, '2022-02-04', 9001, 'Socks', 'Quiksilver', 12.0, 2),\n",
       " (9423679, '2022-02-05', 9002, 'T-shirt', 'Patagonia', 35.0, 1),\n",
       " (4626377, '2022-02-05', 9003, 'Hoody', 'Animal', 44.0, 1),\n",
       " (4626377, '2022-02-05', 9003, 'Cargo Shorts', 'Animal', 38.0, 1),\n",
       " (4626412, '2022-02-05', 9004, 'Shirt', 'Volcom', 78.0, 1),\n",
       " (9423783, '2022-02-06', 9002, 'Boxer Shorts', 'Superdry', 30.0, 2),\n",
       " (9423783, '2022-02-06', 9002, 'Shorts', 'Globe', 26.0, 1),\n",
       " (4626490, '2022-02-06', 9004, 'Cargo Shorts', 'Billabong', 54.0, 1),\n",
       " (4626490, '2022-02-06', 9004, 'Sweater', 'Dickies', 56.0, 1)]"
      ]
     },
     "metadata": {},
     "output_type": "display_data"
    }
   ],
   "source": [
    "details = [\n",
    " (9423517, 'Jeans', 'Rip Curl', 87.0, 1),\n",
    " (9423517, 'Jacket', 'The North Face', 112.0, 1),\n",
    " (4626232, 'Socks', 'Vans', 15.0, 1),\n",
    " (4626232, 'Jeans', 'Quiksilver', 82.0, 1),\n",
    " (9423534, 'Socks', 'DC', 10.0, 2),\n",
    " (9423534, 'Socks', 'Quiksilver', 12.0, 2),\n",
    " (9423679, 'T-shirt', 'Patagonia', 35.0, 1),\n",
    " (4626377, 'Hoody', 'Animal', 44.0, 1),\n",
    " (4626377, 'Cargo Shorts', 'Animal', 38.0, 1),\n",
    " (4626412, 'Shirt', 'Volcom', 78.0, 1),\n",
    " (9423783, 'Boxer Shorts', 'Superdry', 30.0, 2),\n",
    " (9423783, 'Shorts', 'Globe', 26.0, 1),\n",
    " (4626490, 'Cargo Shorts', 'Billabong', 54.0, 1),\n",
    " (4626490, 'Sweater', 'Dickies', 56.0, 1)\n",
    "]\n",
    "\n",
    "# Order Details must contain the tuples with matching order numbers, merge them into a single tuple, and store all the tuples in a list\n",
    "order_details = []\n",
    "\n",
    "for o in orders:\n",
    "    for d in details:\n",
    "        if o[0] == d[0]:\n",
    "            # skip the first element as it is the order number which is already insterted by `o`\n",
    "            order_details.append(o + d[1:])\n",
    "\n",
    "display(order_details)"
   ]
  },
  {
   "cell_type": "markdown",
   "id": "e1423d07-ccd2-48a8-ad5e-961b827a7d63",
   "metadata": {},
   "source": [
    "In case we have missing \"columns\" (fields) in part of our data we might want to still join both sets but a default value must be specified at the moment of performing this join."
   ]
  },
  {
   "cell_type": "code",
   "execution_count": 7,
   "id": "b44149a5-b26f-4882-b453-8ef306b9e63d",
   "metadata": {},
   "outputs": [],
   "source": [
    "# Append an item that doesnt matches order data\n",
    "details.append((4626592, 'Shorts', 'Protest', 48.0, 1))"
   ]
  },
  {
   "cell_type": "code",
   "execution_count": 8,
   "id": "2e49208b-2387-4e1d-b896-0058bc3e097e",
   "metadata": {},
   "outputs": [
    {
     "ename": "IndexError",
     "evalue": "list index out of range",
     "output_type": "error",
     "traceback": [
      "\u001b[0;31m---------------------------------------------------------------------------\u001b[0m",
      "\u001b[0;31mIndexError\u001b[0m                                Traceback (most recent call last)",
      "Cell \u001b[0;32mIn[8], line 2\u001b[0m\n\u001b[1;32m      1\u001b[0m \u001b[38;5;66;03m# Compact version of aboves loop\u001b[39;00m\n\u001b[0;32m----> 2\u001b[0m orders_details \u001b[38;5;241m=\u001b[39m [[o \u001b[38;5;28;01mfor\u001b[39;00m o \u001b[38;5;129;01min\u001b[39;00m orders \u001b[38;5;28;01mif\u001b[39;00m d[\u001b[38;5;241m0\u001b[39m] \u001b[38;5;241m==\u001b[39m o][\u001b[38;5;241m0\u001b[39m] \u001b[38;5;241m+\u001b[39m d[\u001b[38;5;241m1\u001b[39m:] \u001b[38;5;28;01mfor\u001b[39;00m d \u001b[38;5;129;01min\u001b[39;00m details]\n",
      "Cell \u001b[0;32mIn[8], line 2\u001b[0m, in \u001b[0;36m<listcomp>\u001b[0;34m(.0)\u001b[0m\n\u001b[1;32m      1\u001b[0m \u001b[38;5;66;03m# Compact version of aboves loop\u001b[39;00m\n\u001b[0;32m----> 2\u001b[0m orders_details \u001b[38;5;241m=\u001b[39m [\u001b[43m[\u001b[49m\u001b[43mo\u001b[49m\u001b[43m \u001b[49m\u001b[38;5;28;43;01mfor\u001b[39;49;00m\u001b[43m \u001b[49m\u001b[43mo\u001b[49m\u001b[43m \u001b[49m\u001b[38;5;129;43;01min\u001b[39;49;00m\u001b[43m \u001b[49m\u001b[43morders\u001b[49m\u001b[43m \u001b[49m\u001b[38;5;28;43;01mif\u001b[39;49;00m\u001b[43m \u001b[49m\u001b[43md\u001b[49m\u001b[43m[\u001b[49m\u001b[38;5;241;43m0\u001b[39;49m\u001b[43m]\u001b[49m\u001b[43m \u001b[49m\u001b[38;5;241;43m==\u001b[39;49m\u001b[43m \u001b[49m\u001b[43mo\u001b[49m\u001b[43m]\u001b[49m\u001b[43m[\u001b[49m\u001b[38;5;241;43m0\u001b[39;49m\u001b[43m]\u001b[49m \u001b[38;5;241m+\u001b[39m d[\u001b[38;5;241m1\u001b[39m:] \u001b[38;5;28;01mfor\u001b[39;00m d \u001b[38;5;129;01min\u001b[39;00m details]\n",
      "\u001b[0;31mIndexError\u001b[0m: list index out of range"
     ]
    }
   ],
   "source": [
    "# Compact version of aboves loop\n",
    "orders_details = [[o for o in orders if d[0] == o][0] + d[1:] for d in details]"
   ]
  },
  {
   "cell_type": "markdown",
   "id": "824f9684-034c-4350-b288-098cfba14d8b",
   "metadata": {},
   "source": [
    "When theres a unmatched order number the slice/range operation fails"
   ]
  },
  {
   "cell_type": "code",
   "execution_count": 9,
   "id": "e1fd989c-ef73-4a85-8b40-5b9accdcc59f",
   "metadata": {},
   "outputs": [
    {
     "data": {
      "text/plain": [
       "[(9423517, '2022-02-04', 9001, 'Jeans', 'Rip Curl', 87.0, 1),\n",
       " (9423517, '2022-02-04', 9001, 'Jacket', 'The North Face', 112.0, 1),\n",
       " (4626232, '2022-02-04', 9003, 'Socks', 'Vans', 15.0, 1),\n",
       " (4626232, '2022-02-04', 9003, 'Jeans', 'Quiksilver', 82.0, 1),\n",
       " (9423534, '2022-02-04', 9001, 'Socks', 'DC', 10.0, 2),\n",
       " (9423534, '2022-02-04', 9001, 'Socks', 'Quiksilver', 12.0, 2),\n",
       " (9423679, '2022-02-05', 9002, 'T-shirt', 'Patagonia', 35.0, 1),\n",
       " (4626377, '2022-02-05', 9003, 'Hoody', 'Animal', 44.0, 1),\n",
       " (4626377, '2022-02-05', 9003, 'Cargo Shorts', 'Animal', 38.0, 1),\n",
       " (4626412, '2022-02-05', 9004, 'Shirt', 'Volcom', 78.0, 1),\n",
       " (9423783, '2022-02-06', 9002, 'Boxer Shorts', 'Superdry', 30.0, 2),\n",
       " (9423783, '2022-02-06', 9002, 'Shorts', 'Globe', 26.0, 1),\n",
       " (4626490, '2022-02-06', 9004, 'Cargo Shorts', 'Billabong', 54.0, 1),\n",
       " (4626490, '2022-02-06', 9004, 'Sweater', 'Dickies', 56.0, 1)]"
      ]
     },
     "metadata": {},
     "output_type": "display_data"
    }
   ],
   "source": [
    "# Fixes the index out of bounds issue but stills doesnt includes the new \n",
    "orders_details = [[o for o in orders if d[0] in o][0] + d[1:] for d in details if d[0] in [o[0] for o in orders]]\n",
    "display(orders_details)"
   ]
  },
  {
   "cell_type": "code",
   "execution_count": 10,
   "id": "c0a67d43-1db7-458f-8d16-b1c713952145",
   "metadata": {},
   "outputs": [
    {
     "data": {
      "text/plain": [
       "[(9423517, '2022-02-04', 9001, 'Jeans', 'Rip Curl', 87.0, 1),\n",
       " (9423517, '2022-02-04', 9001, 'Jacket', 'The North Face', 112.0, 1),\n",
       " (4626232, '2022-02-04', 9003, 'Socks', 'Vans', 15.0, 1),\n",
       " (4626232, '2022-02-04', 9003, 'Jeans', 'Quiksilver', 82.0, 1),\n",
       " (9423534, '2022-02-04', 9001, 'Socks', 'DC', 10.0, 2),\n",
       " (9423534, '2022-02-04', 9001, 'Socks', 'Quiksilver', 12.0, 2),\n",
       " (9423679, '2022-02-05', 9002, 'T-shirt', 'Patagonia', 35.0, 1),\n",
       " (4626377, '2022-02-05', 9003, 'Hoody', 'Animal', 44.0, 1),\n",
       " (4626377, '2022-02-05', 9003, 'Cargo Shorts', 'Animal', 38.0, 1),\n",
       " (4626412, '2022-02-05', 9004, 'Shirt', 'Volcom', 78.0, 1),\n",
       " (9423783, '2022-02-06', 9002, 'Boxer Shorts', 'Superdry', 30.0, 2),\n",
       " (9423783, '2022-02-06', 9002, 'Shorts', 'Globe', 26.0, 1),\n",
       " (4626490, '2022-02-06', 9004, 'Cargo Shorts', 'Billabong', 54.0, 1),\n",
       " (4626490, '2022-02-06', 9004, 'Sweater', 'Dickies', 56.0, 1),\n",
       " (4626592, None, None, 'Shorts', 'Protest', 48.0, 1)]"
      ]
     },
     "metadata": {},
     "output_type": "display_data"
    }
   ],
   "source": [
    "# In order to include the missing order we must set a de-fault value when the orders list is missing an entry for a provided order detail\n",
    "order_details_right = [[o for o in orders if d[0] in o][0] + d[1:] if d[0] in [o[0] for o in orders] else (d[0], None, None) + d[1:] for d in details]\n",
    "display(order_details_right)"
   ]
  },
  {
   "cell_type": "markdown",
   "id": "6ba43976-944a-4646-9cd4-bf4c0b74a5d9",
   "metadata": {},
   "source": [
    "Get a sum over all items"
   ]
  },
  {
   "cell_type": "code",
   "execution_count": 11,
   "id": "5217b466-b184-4a54-84c6-acf882759bf6",
   "metadata": {},
   "outputs": [
    {
     "data": {
      "text/plain": [
       "779.0"
      ]
     },
     "execution_count": 11,
     "metadata": {},
     "output_type": "execute_result"
    }
   ],
   "source": [
    "sum(price * quantity for _, _, _, _, _, price, quantity in order_details_right)"
   ]
  },
  {
   "cell_type": "code",
   "execution_count": null,
   "id": "b0eb1d4e-19f7-4d79-ad8b-4a093e585d33",
   "metadata": {},
   "outputs": [],
   "source": [
    "# Filter out orders not present in `orders` list by checkitn\n",
    "sum(price * quantity for _, date, _, _, _, price, quantity in order_details_right if date != None)"
   ]
  },
  {
   "cell_type": "markdown",
   "id": "c91aeb71-ec59-49f4-9610-ae13b635d5dc",
   "metadata": {},
   "source": [
    "## Concatenating NumPy Arrays"
   ]
  },
  {
   "cell_type": "code",
   "execution_count": 2,
   "id": "6c7bf128-fdf3-4933-9e4f-4be84fcc021e",
   "metadata": {},
   "outputs": [
    {
     "data": {
      "text/plain": [
       "array([[2700, 3000, 3000],\n",
       "       [2600, 2800, 2800],\n",
       "       [2300, 2500, 2500]])"
      ]
     },
     "metadata": {},
     "output_type": "display_data"
    }
   ],
   "source": [
    "import numpy as np\n",
    "\n",
    "jeff_salary = [2700, 3000, 3000]\n",
    "nick_salary = [2600, 2800, 2800]\n",
    "tom_salary = [2300, 2500, 2500]\n",
    "\n",
    "base_salary1 = np.array([jeff_salary, nick_salary, tom_salary])\n",
    "display(base_salary1)"
   ]
  },
  {
   "cell_type": "code",
   "execution_count": 3,
   "id": "b628098a-882a-44b2-a3af-0f892e8aabbd",
   "metadata": {},
   "outputs": [
    {
     "data": {
      "text/plain": [
       "array([[2200, 2400, 3000],\n",
       "       [2500, 2700, 2700]])"
      ]
     },
     "metadata": {},
     "output_type": "display_data"
    }
   ],
   "source": [
    "maya_salary = [2200, 2400, 3000]\n",
    "john_salary = [2500, 2700, 2700]\n",
    "\n",
    "base_salary2 = np.array([maya_salary, john_salary])\n",
    "display(base_salary2)"
   ]
  },
  {
   "cell_type": "code",
   "execution_count": 5,
   "id": "a4c46e08-f7d9-4574-af52-d4de13e70484",
   "metadata": {},
   "outputs": [
    {
     "data": {
      "text/plain": [
       "array([[2700, 3000, 3000],\n",
       "       [2600, 2800, 2800],\n",
       "       [2300, 2500, 2500],\n",
       "       [2200, 2400, 3000],\n",
       "       [2500, 2700, 2700]])"
      ]
     },
     "metadata": {},
     "output_type": "display_data"
    }
   ],
   "source": [
    "base_salary = np.concatenate((base_salary1, base_salary2), axis=0) # axis=0 concatenates vertically\n",
    "display(base_salary)"
   ]
  },
  {
   "cell_type": "markdown",
   "id": "07b927fa-e087-4ac4-bd6b-904332666147",
   "metadata": {},
   "source": [
    "With both salary arrays merged into one, we can now open scenario for a case where a single month salary per employee is also introduced.\n",
    "In this case we want to concatenate an array of salaries that holds the same order as of employees."
   ]
  },
  {
   "cell_type": "code",
   "execution_count": 6,
   "id": "c99a4a45-f87d-4d5a-b9cc-e242f97a505f",
   "metadata": {},
   "outputs": [],
   "source": [
    "# Introduces a new month salary for each employee where each item (array in the 2nd dimension) belongs to an employee\n",
    "new_month_salary = [\n",
    "    [3000],\n",
    "    [2900],\n",
    "    [2500],\n",
    "    [2500],\n",
    "    [2700]]"
   ]
  },
  {
   "cell_type": "code",
   "execution_count": 8,
   "id": "ed678c17-6ece-4b47-b31d-827232dff8c7",
   "metadata": {},
   "outputs": [
    {
     "data": {
      "text/plain": [
       "array([[2700, 3000, 3000, 3000],\n",
       "       [2600, 2800, 2800, 2900],\n",
       "       [2300, 2500, 2500, 2500],\n",
       "       [2200, 2400, 3000, 2500],\n",
       "       [2500, 2700, 2700, 2700]])"
      ]
     },
     "metadata": {},
     "output_type": "display_data"
    }
   ],
   "source": [
    "# Concatenates the `new_month_salary` to the `base_salary` array. Uses axis=1 to concatenate horizontally\n",
    "base_salary = np.concatenate((base_salary, new_month_salary), axis=1)\n",
    "display(base_salary)"
   ]
  },
  {
   "cell_type": "code",
   "execution_count": 10,
   "id": "9ba4aee1-389f-494e-b25d-3278e6219ace",
   "metadata": {},
   "outputs": [
    {
     "data": {
      "text/plain": [
       "array([[2700, 3000, 3000, 3000, 3000, 3200],\n",
       "       [2600, 2800, 2800, 2900, 2900, 2900],\n",
       "       [2300, 2500, 2500, 2500, 2500, 2900],\n",
       "       [2200, 2400, 3000, 2500, 3000, 3000],\n",
       "       [2500, 2700, 2700, 2700, 2900, 2900]])"
      ]
     },
     "metadata": {},
     "output_type": "display_data"
    }
   ],
   "source": [
    "upcoming_months = [\n",
    "    [3000, 3200],\n",
    "    [2900, 2900],\n",
    "    [2500, 2900],\n",
    "    [3000, 3000],\n",
    "    [2900, 2900],\n",
    "]\n",
    "\n",
    "base_salary = np.concatenate((base_salary, upcoming_months), axis=1)\n",
    "display(base_salary)"
   ]
  },
  {
   "cell_type": "code",
   "execution_count": 13,
   "id": "4c73221b-625b-40cd-a305-32a3a4e3dda3",
   "metadata": {},
   "outputs": [
    {
     "data": {
      "text/plain": [
       "array([[2700, 3000, 3000, 3000, 3000, 3200],\n",
       "       [2600, 2800, 2800, 2900, 2900, 2900],\n",
       "       [2300, 2500, 2500, 2500, 2500, 2900],\n",
       "       [2200, 2400, 3000, 2500, 3000, 3000],\n",
       "       [2500, 2700, 2700, 2700, 2900, 2900],\n",
       "       [   0,    0,    0,    0,    0, 2900]])"
      ]
     },
     "metadata": {},
     "output_type": "display_data"
    }
   ],
   "source": [
    "new_employee_salary = [\n",
    "    [0, 0, 0, 0, 0, 2900]\n",
    "]\n",
    "\n",
    "base_salary = np.concatenate((base_salary, new_employee_salary), axis=0)\n",
    "display(base_salary)"
   ]
  }
 ],
 "metadata": {
  "kernelspec": {
   "display_name": "Python 3 (ipykernel)",
   "language": "python",
   "name": "python3"
  },
  "language_info": {
   "codemirror_mode": {
    "name": "ipython",
    "version": 3
   },
   "file_extension": ".py",
   "mimetype": "text/x-python",
   "name": "python",
   "nbconvert_exporter": "python",
   "pygments_lexer": "ipython3",
   "version": "3.9.17"
  }
 },
 "nbformat": 4,
 "nbformat_minor": 5
}
