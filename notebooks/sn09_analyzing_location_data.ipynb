{
 "cells": [
  {
   "cell_type": "code",
   "execution_count": 9,
   "id": "d22b455e-8d88-49cd-82e6-55838d526cbc",
   "metadata": {},
   "outputs": [],
   "source": [
    "import geocoder\n",
    "\n",
    "geocode_res = geocoder.osm('1 Apple Park Way, Cupertino, California, United States')"
   ]
  },
  {
   "cell_type": "code",
   "execution_count": 21,
   "id": "1caf59dc-c1f8-4bc7-b478-39edf657d9b8",
   "metadata": {},
   "outputs": [
    {
     "name": "stdout",
     "output_type": "stream",
     "text": [
      "[-122.010747, 37.3317424]\n"
     ]
    }
   ],
   "source": [
    "coordinates = geocode_res.geometry['coordinates']\n",
    "print(coordinates)"
   ]
  },
  {
   "cell_type": "code",
   "execution_count": 42,
   "id": "ddedf165-a1cd-4fb8-9d42-175eb5a56dc5",
   "metadata": {},
   "outputs": [
    {
     "data": {
      "text/html": [
       "<div>\n",
       "<style scoped>\n",
       "    .dataframe tbody tr th:only-of-type {\n",
       "        vertical-align: middle;\n",
       "    }\n",
       "\n",
       "    .dataframe tbody tr th {\n",
       "        vertical-align: top;\n",
       "    }\n",
       "\n",
       "    .dataframe thead th {\n",
       "        text-align: right;\n",
       "    }\n",
       "</style>\n",
       "<table border=\"1\" class=\"dataframe\">\n",
       "  <thead>\n",
       "    <tr style=\"text-align: right;\">\n",
       "      <th></th>\n",
       "      <th>cab</th>\n",
       "      <th>lat</th>\n",
       "      <th>long</th>\n",
       "      <th>tm</th>\n",
       "    </tr>\n",
       "  </thead>\n",
       "  <tbody>\n",
       "    <tr>\n",
       "      <th>0</th>\n",
       "      <td>cab_26</td>\n",
       "      <td>43.602508</td>\n",
       "      <td>39.715685</td>\n",
       "      <td>14:47:44</td>\n",
       "    </tr>\n",
       "    <tr>\n",
       "      <th>1</th>\n",
       "      <td>cab_112</td>\n",
       "      <td>43.582243</td>\n",
       "      <td>39.752077</td>\n",
       "      <td>14:47:55</td>\n",
       "    </tr>\n",
       "    <tr>\n",
       "      <th>2</th>\n",
       "      <td>cab_26</td>\n",
       "      <td>43.607480</td>\n",
       "      <td>39.721521</td>\n",
       "      <td>14:49:11</td>\n",
       "    </tr>\n",
       "    <tr>\n",
       "      <th>3</th>\n",
       "      <td>cab_112</td>\n",
       "      <td>43.579258</td>\n",
       "      <td>39.758944</td>\n",
       "      <td>14:49:51</td>\n",
       "    </tr>\n",
       "    <tr>\n",
       "      <th>4</th>\n",
       "      <td>cab_112</td>\n",
       "      <td>43.574906</td>\n",
       "      <td>39.766325</td>\n",
       "      <td>14:51:53</td>\n",
       "    </tr>\n",
       "    <tr>\n",
       "      <th>5</th>\n",
       "      <td>cab_26</td>\n",
       "      <td>43.612203</td>\n",
       "      <td>39.720491</td>\n",
       "      <td>14:52:48</td>\n",
       "    </tr>\n",
       "  </tbody>\n",
       "</table>\n",
       "</div>"
      ],
      "text/plain": [
       "       cab        lat       long        tm\n",
       "0   cab_26  43.602508  39.715685  14:47:44\n",
       "1  cab_112  43.582243  39.752077  14:47:55\n",
       "2   cab_26  43.607480  39.721521  14:49:11\n",
       "3  cab_112  43.579258  39.758944  14:49:51\n",
       "4  cab_112  43.574906  39.766325  14:51:53\n",
       "5   cab_26  43.612203  39.720491  14:52:48"
      ]
     },
     "metadata": {},
     "output_type": "display_data"
    }
   ],
   "source": [
    "import pandas as pd\n",
    "\n",
    "df = pd.read_csv(\"ex09_geolocation_moving_obj.csv\", names=['cab', 'lat', 'long', 'tm'])\n",
    "display(df)"
   ]
  },
  {
   "cell_type": "code",
   "execution_count": 43,
   "id": "9f5412aa-d334-45a5-af1f-b430f161413f",
   "metadata": {},
   "outputs": [
    {
     "data": {
      "text/html": [
       "<div>\n",
       "<style scoped>\n",
       "    .dataframe tbody tr th:only-of-type {\n",
       "        vertical-align: middle;\n",
       "    }\n",
       "\n",
       "    .dataframe tbody tr th {\n",
       "        vertical-align: top;\n",
       "    }\n",
       "\n",
       "    .dataframe thead th {\n",
       "        text-align: right;\n",
       "    }\n",
       "</style>\n",
       "<table border=\"1\" class=\"dataframe\">\n",
       "  <thead>\n",
       "    <tr style=\"text-align: right;\">\n",
       "      <th></th>\n",
       "      <th>cab</th>\n",
       "      <th>lat</th>\n",
       "      <th>long</th>\n",
       "      <th>tm</th>\n",
       "    </tr>\n",
       "  </thead>\n",
       "  <tbody>\n",
       "    <tr>\n",
       "      <th>5</th>\n",
       "      <td>cab_26</td>\n",
       "      <td>43.612203</td>\n",
       "      <td>39.720491</td>\n",
       "      <td>14:52:48</td>\n",
       "    </tr>\n",
       "    <tr>\n",
       "      <th>4</th>\n",
       "      <td>cab_112</td>\n",
       "      <td>43.574906</td>\n",
       "      <td>39.766325</td>\n",
       "      <td>14:51:53</td>\n",
       "    </tr>\n",
       "  </tbody>\n",
       "</table>\n",
       "</div>"
      ],
      "text/plain": [
       "       cab        lat       long        tm\n",
       "5   cab_26  43.612203  39.720491  14:52:48\n",
       "4  cab_112  43.574906  39.766325  14:51:53"
      ]
     },
     "metadata": {},
     "output_type": "display_data"
    }
   ],
   "source": [
    "latestrows = df.sort_values(['cab', 'tm'], ascending=False).drop_duplicates('cab')\n",
    "display(latestrows)"
   ]
  },
  {
   "cell_type": "code",
   "execution_count": 44,
   "id": "dee21ad0-9ffb-42b5-bdc4-c7fcfa828427",
   "metadata": {},
   "outputs": [
    {
     "data": {
      "text/plain": [
       "[['cab_26', 43.612203, 39.720491, '14:52:48'],\n",
       " ['cab_112', 43.574906, 39.766325, '14:51:53']]"
      ]
     },
     "metadata": {},
     "output_type": "display_data"
    }
   ],
   "source": [
    "latestrows_numpy = latestrows.values\n",
    "latestrows = latestrows_numpy.tolist()\n",
    "display(latestrows)"
   ]
  },
  {
   "cell_type": "code",
   "execution_count": 45,
   "id": "eaf3773d-9880-4026-86e0-0758a998fa2b",
   "metadata": {},
   "outputs": [
    {
     "name": "stdout",
     "output_type": "stream",
     "text": [
      "cab_26: 4636\n",
      "cab_112: 1015\n"
     ]
    },
    {
     "data": {
      "text/plain": [
       "[['cab_26', 43.612203, 39.720491, '14:52:48', 4636],\n",
       " ['cab_112', 43.574906, 39.766325, '14:51:53', 1015]]"
      ]
     },
     "metadata": {},
     "output_type": "display_data"
    }
   ],
   "source": [
    "# calculate the distance between each cab and a pickup place\n",
    "from geopy.distance import distance\n",
    "\n",
    "pick_up = (43.578854, 39.754995)\n",
    "\n",
    "for i, row in enumerate(latestrows):\n",
    "    lat = row[1]\n",
    "    long = row[2]\n",
    "    cab = (lat, long)\n",
    "    dist_meters = distance(pick_up, cab).m\n",
    "\n",
    "    print(row[0] + ':', round(dist_meters))\n",
    "    latestrows[i].append(round(dist_meters))\n",
    "\n",
    "display(latestrows)"
   ]
  },
  {
   "cell_type": "code",
   "execution_count": 46,
   "id": "e12cf848-4505-40c1-ae6e-a9a2c2c962e1",
   "metadata": {},
   "outputs": [
    {
     "name": "stdout",
     "output_type": "stream",
     "text": [
      "The closest cab is:  cab_112 . Distance in meters:  1015\n"
     ]
    }
   ],
   "source": [
    "closest_cab = min(latestrows, key=lambda x: x[4])\n",
    "print('The closest cab is: ', closest_cab[0], '. Distance in meters: ', closest_cab[4])"
   ]
  },
  {
   "cell_type": "code",
   "execution_count": null,
   "id": "61ce9cf6-d5e7-47d3-b836-a2daf422ab23",
   "metadata": {},
   "outputs": [],
   "source": []
  }
 ],
 "metadata": {
  "kernelspec": {
   "display_name": "Python 3 (ipykernel)",
   "language": "python",
   "name": "python3"
  },
  "language_info": {
   "codemirror_mode": {
    "name": "ipython",
    "version": 3
   },
   "file_extension": ".py",
   "mimetype": "text/x-python",
   "name": "python",
   "nbconvert_exporter": "python",
   "pygments_lexer": "ipython3",
   "version": "3.9.17"
  }
 },
 "nbformat": 4,
 "nbformat_minor": 5
}
